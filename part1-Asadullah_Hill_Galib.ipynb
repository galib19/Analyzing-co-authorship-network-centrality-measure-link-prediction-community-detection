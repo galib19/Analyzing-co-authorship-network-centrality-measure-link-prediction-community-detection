{
 "cells": [
  {
   "cell_type": "markdown",
   "metadata": {},
   "source": [
    "# CSE 891 Project Part 1: Data Creation and Exploration\n",
    "\n",
    "### Due date: December 13, 2020 (before midnight)\n",
    "\n",
    "For this project, you will use a sample dataset from DBLP, a bibliography database of computer science publications (including journals, conference proceedings, book chapters, technical reports, etc). Your goal is to extract a network of co-authorship relation between researchers identified to be among the top researchers in machine learning according to Google scholar. The list of these authors names and their corresponding DBLP entries will be provided as input data for your code.  \n",
    "\n",
    "Use this Jupyter notebook template for your program. Save it as part1.ipynb and submit it (along with its HTML version) to D2L."
   ]
  },
  {
   "cell_type": "markdown",
   "metadata": {},
   "source": [
    "### A. DATA CREATION"
   ]
  },
  {
   "cell_type": "markdown",
   "metadata": {},
   "source": [
    "**Step 1:** Download the *dblp.zip* and *authors.txt* file from D2L and store them in the same folder as the working directory for the project."
   ]
  },
  {
   "cell_type": "markdown",
   "metadata": {},
   "source": [
    "**Step 2:** Write a function to load the *authors.txt* file and store them in a dictionary named *authors*. The key of the dictionary will be the author name and the value will be author ID. Note that author ID is the first column in *authors.txt* file while author name is in the remaining columns f the file."
   ]
  },
  {
   "cell_type": "code",
   "execution_count": 1,
   "metadata": {},
   "outputs": [
    {
     "name": "stdout",
     "output_type": "stream",
     "text": [
      "{'Aaron C. Courville': '1', 'Alan L. Yuille': '2', 'Alan S. Willsky': '3', 'Alex Krizhevsky': '4', 'Alex Smola': '5', 'Alexandre Gramfort': '6', 'Ali Farhadi': '7', 'Anders Krogh': '8', 'Andrea Vedaldi': '9', 'Andrew McCallum': '10', 'Andrew Y. Ng': '11', 'Andrew Zisserman': '12', 'Armando Fox': '13', 'Arnaud Doucet': '14', 'Bernt Schiele': '15', 'Bertrand Thirion': '16', 'Bill Triggs': '17', 'Bing Liu': '18', 'Bram van Ginneken': '19', 'Carl Edward Rasmussen': '20', 'Carlos Guestrin': '21', 'Chih-Jen Lin': '22', 'Chin-Hui Lee': '23', 'Chris H. Q. Ding': '24', 'Christian Szegedy': '25', 'Christopher M. Bishop': '26', 'Corinna Cortes': '27', 'Dacheng Tao': '28', 'Daniel Cremers': '29', 'Daniele Bonacorsi': '30', 'Daphne Koller': '31', 'David Heckerman': '32', 'David Jones': '33', 'David M. Blei': '34', 'David Silver': '35', 'David Warde-Farley': '36', 'Deva Ramanan': '37', 'Diederik P. Kingma': '38', 'Dimitris N. Metaxas': '39', 'Dragomir Anguelov': '40', 'Dumitru Erhan': '41', 'Fabian Pedregosa': '42', 'Fedor Ratnikov': '43', 'Fei-Fei Li 0001': '44', 'Fernando Pereira': '45', 'Francis Bach': '46', 'Geoffrey E. Hinton': '47', 'Geoffrey Ye Li': '48', 'Georgios B. Giannakis': '49', 'Gong Zhang': '50', 'Greg Corrado': '51', 'Guang-Bin Huang': '52', 'Guillermo Sapiro': '53', 'Hermann Ney': '54', 'Horst Bischof': '55', 'Hugo Larochelle': '56', 'Ilya Sutskever': '57', 'Inderjit S. Dhillon': '58', 'Isabelle Guyon': '59', 'Jason Weston': '60', 'Javier M. Duarte': '61', 'Jean Ponce': '62', 'Jeff Dean': '63', 'Jeff Donahue': '64', 'Jianming Zhang': '65', 'Jimmy Ba': '66', 'Jiri Matas': '67', 'Jitendra Malik': '68', 'Johan A. K. Suykens': '69', 'Johannes Brandstetter': '70', 'John C. Platt': '71', 'John Langford 0001': '72', 'John Shawe-Taylor': '73', 'Jorge Nocedal': '74', 'Jos C. Prncipe': '75', 'Joshua B. Tenenbaum': '76', 'Jure Leskovec': '77', 'Jyh-Shing Roger Jang': '78', 'K. J. Ray Liu': '79', 'Kaiming He': '80', 'Koray Kavukcuoglu': '81', 'Krystian Mikolajczyk': '82', 'Kunal Talwar': '83', 'Kyunghyun Cho': '84', 'Laurens van der Maaten': '85', 'Laurent El Ghaoui': '86', 'Lei Zhang': '87', 'Licheng Jiao': '88', 'Lon Bottou': '89', 'Luc Van Gool': '90', 'Luca Benini': '91', 'Matei Zaharia': '92', 'Maurizio Pierini': '93', 'Max Welling': '94', 'Mehdi Mirza': '95', 'Michael Elad': '96', 'Michael I. Jordan': '97', 'Michael J. Black': '98', 'Michael J. Pazzani': '99', 'Michael Kagan': '100', 'Michael R. Lyu': '101', 'Michal Aharon': '102', 'Mike Schuster': '103', 'Navneet Dalal': '104', 'Nello Cristianini': '105', 'Nikos Paragios': '106', 'Nitish Srivastava': '107', 'Olivier Chapelle': '108', 'Oriol Vinyals': '109', 'P. Jonathon Phillips': '110', 'Pablo Tamayo': '111', 'Padhraic Smyth': '112', 'Pascal Fua': '113', 'Pascal Vincent': '114', 'Pierre Baldi': '115', 'Pieter Abbeel': '116', 'Pietro Perona': '117', 'Quoc V. Le': '118', 'Rama Chellapa': '119', 'Raymond Mooney': '120', 'Richard S. Sutton': '121', 'Richard Socher': '122', 'Rob Fergus': '123', 'Robert Tibshirani': '124', 'Roberto Castello': '125', 'Ron J. Weiss': '126', 'Ruslan Salakhutdinov': '127', 'Ryan Poplin': '128', 'Samy Bengio': '129', 'Santosh Kumar': '130', 'Sendhil Mullainathan': '131', 'Sepp Hochreiter': '132', 'Sergei Gleyzer': '133', 'Sergey Ioffe': '134', 'Shih-Fu Chang': '135', 'Shuicheng Yan': '136', 'Stan Z. Li': '137', 'Sumit Kumar': '138', 'Thomas Brox': '139', 'Thomas G. Dietterich': '140', 'Thomas Hofmann': '141', 'Thomas L. Griffiths': '142', 'Thorsten Joachims': '143', 'Tom M. Mitchell': '144', 'Tomas Mikolov': '145', 'Tomaso A. Poggio': '146', 'Tong Zhang': '147', 'Trevor Hastie': '148', 'Vincent Vanhoucke': '149', 'Vipin Kumar': '150', 'Vladimir Vapnik': '151', 'Wei-Ying Ma': '152', 'William Stafford Noble': '153', 'William W. Cohen': '154', 'Wolfram Burgard': '155', 'Xiaogang Wang': '156', 'Yair Weiss': '157', 'Yang Wang': '158', 'Yann LeCun': '159', 'Yi Ma': '160', 'Yoav Freund': '161', 'Yoram Singer': '162', 'Yoshua Bengio': '163', 'Zhi-Hua Zhou': '164', 'Zoubin Ghahramani': '165'}\n"
     ]
    }
   ],
   "source": [
    "authors = {}\n",
    "with open(\"authors.txt\") as f:\n",
    "    for line in f:\n",
    "        splitted = line.strip().split(' ')\n",
    "        name = \" \".join(splitted[1:])\n",
    "        value = splitted[0] \n",
    "        authors[name] = value\n",
    "\n",
    "print (authors)\n"
   ]
  },
  {
   "cell_type": "markdown",
   "metadata": {},
   "source": [
    "**Step 3:** Load the *dblp1.txt*, ..., *dblp9.txt* files and process each of the XML files to find co-authors of each author in the dictionary created from Step 2. Note that you should store the co-authorship relation in a file named *coauthor.csv*, which has 2 comma-separated columns--(authorID1, authorId2)--if they have collaborated in the past. Since the relationship is symmetric, the file will contain duplicate rows, i.e., if (authorID1, authorID2) is in the file, then (authorID2, authorID1) will also be in the file. You do not have to remove the duplicates to simplify your later processing (e.g., when converting the 2-column format into an adjacency matrix). You may use python's XML minidom library to parse the XML files. See the example shown below.\n",
    "\n",
    "**Note:** You only need to extract co-author relationship between authors whose names appear in the *authors.txt* file. \n",
    "Your code should focus on extracting the co-authorship relation from journal and conference proceedings collaborations only. Other types of collaboration (as editors or authors of books, book chapters, technical reports, etc. should be ignored). You can identify whether a publication corresponds to a journal article or a conference proceeding by their *article* and *inproceedings* XML tags. Note that some authors have trailing digits in their names (e.g., John Langford 0001 or Fei-Fei Li 0001) to disambiguate multiple authors with the same name. Furthermore, some author names may appear twice in the same article. You may ignore the duplicate names. Others can have different variations of their names (e.g., Alex Smola and Alexander Smola or Tom Mitchell and Tom M. Mitchell). You do not have to worry about the different name variations. Use only the name variation given in the *authors.txt* file. You should also be aware of Unicode characters in some of the author names. "
   ]
  },
  {
   "cell_type": "code",
   "execution_count": 2,
   "metadata": {},
   "outputs": [
    {
     "name": "stdout",
     "output_type": "stream",
     "text": [
      "Title:  An axiomatic characterization of wagering mechanisms.\n",
      "Title:  An intelligent Web agent that autonomously learns how to translate.\n",
      "Title:  Transferring sentiment knowledge between words and tweets.\n",
      "Title:  TSSP: Multi-features based reinforcement algorithm to find related papers.\n",
      "Title:  Situation Awareness Inferred From Posture Transition and Location: Derived From Smartphone and Smart home Sensors.\n",
      "Title:  Toward Personalized Activity Recognition Systems With a Semipopulation Approach.\n",
      "Title:  Predicting 3-D Lower Back Joint Load in Lifting: A Deep Pose Estimation Approach.\n",
      "Title:  End-to-End Online Writer Identification With Recurrent Neural Network.\n",
      "Title:  Accelerated Visual Context Classification on a Low-Power Smartwatch.\n",
      "Title:  Medium-term maintenance turnaround planning under uncertainty for integrated chemical sites.\n"
     ]
    }
   ],
   "source": [
    "from xml.dom import minidom\n",
    "\n",
    "xml_doc = minidom.parse('dblp/dblp1.xml')\n",
    "\n",
    "articles = xml_doc.getElementsByTagName(\"article\")\n",
    "count = 0\n",
    "for article in articles:\n",
    "    count = count + 1\n",
    "    if count > 10:\n",
    "        break\n",
    "    title = article.getElementsByTagName(\"title\")\n",
    "    print(\"Title: \", title[0].firstChild.nodeValue)"
   ]
  },
  {
   "cell_type": "code",
   "execution_count": 6,
   "metadata": {},
   "outputs": [
    {
     "name": "stdout",
     "output_type": "stream",
     "text": [
      "working on: dblp1.xml\n",
      "working on: dblp2.xml\n",
      "working on: dblp3.xml\n",
      "working on: dblp4.xml\n",
      "working on: dblp5.xml\n",
      "working on: dblp6.xml\n",
      "working on: dblp7.xml\n",
      "working on: dblp8.xml\n",
      "working on: dblp9.xml\n"
     ]
    }
   ],
   "source": [
    "import csv, os\n",
    "\n",
    "from xml.dom import minidom\n",
    "\n",
    "co_authors_list_full = []\n",
    "\n",
    "path = 'dblp'\n",
    "for filename in os.listdir(path):\n",
    "    if not filename.endswith('.xml'): continue\n",
    "    xml_doc = minidom.parse('dblp/'+filename)\n",
    "    print(\"working on:\", filename)\n",
    "\n",
    "    articles = xml_doc.getElementsByTagName(\"article\")\n",
    "    inproceedings = xml_doc.getElementsByTagName(\"inproceedings\")\n",
    "\n",
    "    for article in articles:\n",
    "        authors_list_unfiltered = article.getElementsByTagName(\"author\")\n",
    "        authors_list_unfiltered = list(dict.fromkeys(authors_list_unfiltered))\n",
    "\n",
    "        authors_list_filtered=[]\n",
    "        for i in range(len(authors_list_unfiltered)):\n",
    "            temp_author = authors_list_unfiltered[i].firstChild.nodeValue\n",
    "            if temp_author in authors.keys():\n",
    "                authors_list_filtered.append(authors[temp_author])\n",
    "        for a in authors_list_filtered: \n",
    "            for b in authors_list_filtered:\n",
    "                if a!=b: \n",
    "                    co_authors_list_full.append([a,b])\n",
    "                    \n",
    "    for inproceeding in inproceedings:\n",
    "        authors_list_unfiltered = inproceeding.getElementsByTagName(\"author\")\n",
    "        authors_list_filtered=[]\n",
    "        for i in range(len(authors_list_unfiltered)):\n",
    "            temp_author = authors_list_unfiltered[i].firstChild.nodeValue\n",
    "            if temp_author in authors.keys():\n",
    "                authors_list_filtered.append(authors[temp_author])\n",
    "        for a in authors_list_filtered: \n",
    "            for b in authors_list_filtered:\n",
    "                if a!=b: \n",
    "                    co_authors_list_full.append([a,b])\n",
    "with open(\"coauthor.csv\", \"w\", newline=\"\") as f:\n",
    "    writer = csv.writer(f)\n",
    "    writer.writerows(co_authors_list_full)"
   ]
  },
  {
   "cell_type": "code",
   "execution_count": 8,
   "metadata": {},
   "outputs": [
    {
     "name": "stdout",
     "output_type": "stream",
     "text": [
      "Number of co-authorship links = 4598\n"
     ]
    },
    {
     "data": {
      "text/html": [
       "<div>\n",
       "<style scoped>\n",
       "    .dataframe tbody tr th:only-of-type {\n",
       "        vertical-align: middle;\n",
       "    }\n",
       "\n",
       "    .dataframe tbody tr th {\n",
       "        vertical-align: top;\n",
       "    }\n",
       "\n",
       "    .dataframe thead th {\n",
       "        text-align: right;\n",
       "    }\n",
       "</style>\n",
       "<table border=\"1\" class=\"dataframe\">\n",
       "  <thead>\n",
       "    <tr style=\"text-align: right;\">\n",
       "      <th></th>\n",
       "      <th>0</th>\n",
       "      <th>1</th>\n",
       "    </tr>\n",
       "  </thead>\n",
       "  <tbody>\n",
       "    <tr>\n",
       "      <th>0</th>\n",
       "      <td>101</td>\n",
       "      <td>136</td>\n",
       "    </tr>\n",
       "    <tr>\n",
       "      <th>1</th>\n",
       "      <td>136</td>\n",
       "      <td>101</td>\n",
       "    </tr>\n",
       "    <tr>\n",
       "      <th>2</th>\n",
       "      <td>19</td>\n",
       "      <td>106</td>\n",
       "    </tr>\n",
       "    <tr>\n",
       "      <th>3</th>\n",
       "      <td>106</td>\n",
       "      <td>19</td>\n",
       "    </tr>\n",
       "    <tr>\n",
       "      <th>4</th>\n",
       "      <td>139</td>\n",
       "      <td>29</td>\n",
       "    </tr>\n",
       "  </tbody>\n",
       "</table>\n",
       "</div>"
      ],
      "text/plain": [
       "     0    1\n",
       "0  101  136\n",
       "1  136  101\n",
       "2   19  106\n",
       "3  106   19\n",
       "4  139   29"
      ]
     },
     "execution_count": 8,
     "metadata": {},
     "output_type": "execute_result"
    }
   ],
   "source": [
    "import pandas as pd\n",
    "\n",
    "# Code for displaying your co-authorship relation\n",
    "\n",
    "coauthors = pd.read_csv('coauthor.csv',header=None)\n",
    "print('Number of co-authorship links =', coauthors.shape[0])\n",
    "coauthors.head()"
   ]
  },
  {
   "cell_type": "markdown",
   "metadata": {},
   "source": [
    "## B. DATA EXPLORATION\n",
    "\n",
    "For this step, you will write code for exploring properties of the co-authorship network."
   ]
  },
  {
   "cell_type": "markdown",
   "metadata": {},
   "source": [
    "**Step 1.** Create a 2-dimensional (dense) array called *adjmatrix* to store the co-authorship relation. Since there are 165 authors, the adjmatrix object is of size 165 x 165. \n",
    "\n",
    "**Caution:** The author ID index starts from 1 but the adjmatrix array has indices that start from 0. Make sure you subtract the author ID by 1 before inserting it into the appropriate entry in the adjmatrix. "
   ]
  },
  {
   "cell_type": "code",
   "execution_count": 9,
   "metadata": {},
   "outputs": [
    {
     "data": {
      "text/plain": [
       "True"
      ]
     },
     "execution_count": 9,
     "metadata": {},
     "output_type": "execute_result"
    }
   ],
   "source": [
    "import pandas as pd\n",
    "import numpy as np\n",
    "\n",
    "df = pd.DataFrame(np.zeros((165, 165)))\n",
    "\n",
    "a = pd.read_csv('coauthor.csv', delimiter=',', header=None)\n",
    "for i in range(a.shape[0]):\n",
    "    authID1 = a[0][i]\n",
    "    authID2 = a[1][i]\n",
    "    df[authID1-1][authID2-1] = 1\n",
    "\n",
    "adjmatrix = np.array(df.values.tolist())\n",
    "\n",
    "def check_symmetric(a, rtol=1e-05, atol=1e-08):\n",
    "    return np.allclose(a, a.T, rtol=rtol, atol=atol)\n",
    "\n",
    "check_symmetric(adjmatrix)\n"
   ]
  },
  {
   "cell_type": "markdown",
   "metadata": {},
   "source": [
    "**Step 2:** Compute the number of nodes and number of links in the network. It is ok to double-count the links since the graph is symmetric. You may use any numpy function to sum up the entries in a matrix to determine its number of links."
   ]
  },
  {
   "cell_type": "code",
   "execution_count": 10,
   "metadata": {},
   "outputs": [
    {
     "name": "stdout",
     "output_type": "stream",
     "text": [
      "165\n",
      "575.0\n"
     ]
    }
   ],
   "source": [
    "numNodes = np.count_nonzero([np.count_nonzero(adjmatrix[i]) for i in range(np.array(adjmatrix).shape[0])])\n",
    "numLinks = (np.count_nonzero(adjmatrix))/2\n",
    "print(numNodes)\n",
    "print(numLinks)"
   ]
  },
  {
   "cell_type": "markdown",
   "metadata": {},
   "source": [
    "**Step 3:** Multiply the adjacency matrix with a vector of 1s to obtain the degree distribution of the nodes. \n",
    "\n",
    "**(a)** Identify the names (not just ID) of the top-5 researchers with highest degree centrality. "
   ]
  },
  {
   "cell_type": "code",
   "execution_count": 13,
   "metadata": {},
   "outputs": [
    {
     "name": "stdout",
     "output_type": "stream",
     "text": [
      "Top-5 researchers with highest degree centrality:\n",
      "\n",
      "Michael I. Jordan  >> ID: 97\n",
      "Yoshua Bengio  >> ID: 163\n",
      "Samy Bengio  >> ID: 129\n",
      "Yann LeCun  >> ID: 159\n",
      "Ilya Sutskever  >> ID: 57\n"
     ]
    }
   ],
   "source": [
    "vector_ones = np.ones(165)\n",
    "degrees = np.dot(adjmatrix, vector_ones)\n",
    "print(\"Top-5 researchers with highest degree centrality:\\n\")\n",
    "for auth_id in degrees.argsort()[-5:][::-1]:\n",
    "    print(list(authors.keys())[list(authors.values()).index(str(auth_id+1))], \" >> ID:\", auth_id+1) "
   ]
  },
  {
   "cell_type": "markdown",
   "metadata": {},
   "source": [
    "**(b)** Plot a histogram of the degree distribution."
   ]
  },
  {
   "cell_type": "code",
   "execution_count": 15,
   "metadata": {},
   "outputs": [
    {
     "data": {
      "image/png": "[encoded data removed]",
      "text/plain": [
       "<Figure size 432x288 with 1 Axes>"
      ]
     },
     "metadata": {
      "needs_background": "light"
     },
     "output_type": "display_data"
    }
   ],
   "source": [
    "import matplotlib.pyplot as plt\n",
    "\n",
    "plt.hist(degrees, bins=50)\n",
    "plt.xlabel('Degree')\n",
    "plt.ylabel('Frequency')\n",
    "plt.show()\n",
    "\n"
   ]
  },
  {
   "cell_type": "markdown",
   "metadata": {},
   "source": [
    "**Step 4:** Apply power method to find the principal eigenvector of the adjacency matrix.\n",
    "\n",
    "**(a)** Identify the names (not just ID) of the top-5 researchers with highest absolute value in the principal eigenvector."
   ]
  },
  {
   "cell_type": "code",
   "execution_count": 16,
   "metadata": {},
   "outputs": [
    {
     "name": "stdout",
     "output_type": "stream",
     "text": [
      "Top-5 researchers with highest absolute value in the principal eigenvector:\n",
      "\n",
      "Yoshua Bengio  >> ID: 163\n",
      "Samy Bengio  >> ID: 129\n",
      "Dumitru Erhan  >> ID: 41\n",
      "Yann LeCun  >> ID: 159\n",
      "Ruslan Salakhutdinov  >> ID: 127\n"
     ]
    }
   ],
   "source": [
    "def power_method(matrix, x0, maxiter):\n",
    "    result = x0\n",
    "    for i in range(maxiter):\n",
    "        result = matrix.dot(result)\n",
    "        result = result/np.sqrt(np.add.reduce(result*result))\n",
    "    return result\n",
    "    \n",
    "principal_eigen_vec = power_method(adjmatrix, np.ones((adjmatrix.shape[0],1)), 100)\n",
    "\n",
    "flat = principal_eigen_vec.flatten()\n",
    "indices = np.argpartition(flat, -5)[-5:]\n",
    "indices = indices[np.argsort(-flat[indices])]\n",
    "\n",
    "print(\"Top-5 researchers with highest absolute value in the principal eigenvector:\\n\")\n",
    "\n",
    "for auth_id in indices:\n",
    "    print(list(authors.keys())[list(authors.values()).index(str(auth_id+1))], \" >> ID:\", auth_id+1) "
   ]
  },
  {
   "cell_type": "markdown",
   "metadata": {},
   "source": [
    "**(b)** Plot a histogram of the eigenvalue distribution."
   ]
  },
  {
   "cell_type": "code",
   "execution_count": 17,
   "metadata": {},
   "outputs": [
    {
     "data": {
      "image/png": "[encoded data removed]",
      "text/plain": [
       "<Figure size 432x288 with 1 Axes>"
      ]
     },
     "metadata": {
      "needs_background": "light"
     },
     "output_type": "display_data"
    }
   ],
   "source": [
    "import matplotlib.pyplot as plt\n",
    "\n",
    "plt.hist(principal_eigen_vec, bins=50)\n",
    "plt.xlabel('Degree')\n",
    "plt.ylabel('Frequency')\n",
    "plt.show()\n"
   ]
  },
  {
   "cell_type": "markdown",
   "metadata": {},
   "source": [
    "**Step 4:** Compute the local clustering coefficients of the nodes (see the formula given in project description).\n",
    "\n",
    "**(a)** Identify the names (not just ID) of the top-5 researchers with highest local clustering coefficient."
   ]
  },
  {
   "cell_type": "code",
   "execution_count": 28,
   "metadata": {},
   "outputs": [
    {
     "name": "stdout",
     "output_type": "stream",
     "text": [
      "Top-5 researchers with highest local clustering coefficient:\n",
      "\n",
      "Sergei Gleyzer  >> ID: 133\n",
      "Sergey Ioffe  >> ID: 134\n",
      "Rama Chellapa  >> ID: 119\n",
      "Nitish Srivastava  >> ID: 107\n",
      "Armando Fox  >> ID: 13\n"
     ]
    }
   ],
   "source": [
    "C = np.zeros(165)\n",
    "for j in range(numNodes):\n",
    "    neighbours=[]\n",
    "    for i in range(numNodes):\n",
    "        if adjmatrix[j][i] == 1: neighbours.append(i)\n",
    "    A_u_v = 0 \n",
    "    for k in neighbours:\n",
    "        for l in neighbours:\n",
    "            if k!=l: A_u_v += adjmatrix[k][l]\n",
    "    if degrees[j] == 1: C[j] = 0 \n",
    "    else: C[j] =  A_u_v/(degrees[j]*(degrees[j]-1)) \n",
    "        \n",
    "print(\"Top-5 researchers with highest local clustering coefficient:\\n\")\n",
    "for auth_id in C.argsort()[-5:][::-1]:\n",
    "    print(list(authors.keys())[list(authors.values()).index(str(auth_id+1))], \" >> ID:\", auth_id+1)\n",
    " "
   ]
  },
  {
   "cell_type": "markdown",
   "metadata": {},
   "source": [
    "**(b)** Plot a histogram of the clustering coefficients."
   ]
  },
  {
   "cell_type": "code",
   "execution_count": 29,
   "metadata": {},
   "outputs": [
    {
     "data": {
      "image/png": "[encoded data removed]",
      "text/plain": [
       "<Figure size 432x288 with 1 Axes>"
      ]
     },
     "metadata": {
      "needs_background": "light"
     },
     "output_type": "display_data"
    }
   ],
   "source": [
    "import matplotlib.pyplot as plt\n",
    "\n",
    "plt.hist(C, bins=50)\n",
    "plt.xlabel('Degree')\n",
    "plt.ylabel('Frequency')\n",
    "plt.show()"
   ]
  },
  {
   "cell_type": "code",
   "execution_count": null,
   "metadata": {},
   "outputs": [],
   "source": []
  }
 ],
 "metadata": {
  "kernelspec": {
   "display_name": "Python 3",
   "language": "python",
   "name": "python3"
  },
  "language_info": {
   "codemirror_mode": {
    "name": "ipython",
    "version": 3
   },
   "file_extension": ".py",
   "mimetype": "text/x-python",
   "name": "python",
   "nbconvert_exporter": "python",
   "pygments_lexer": "ipython3",
   "version": "3.8.3"
  }
 },
 "nbformat": 4,
 "nbformat_minor": 2
}
